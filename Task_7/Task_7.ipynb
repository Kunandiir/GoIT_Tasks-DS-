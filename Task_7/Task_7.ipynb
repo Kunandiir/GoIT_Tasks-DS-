{
 "cells": [
  {
   "cell_type": "code",
   "execution_count": 1,
   "metadata": {},
   "outputs": [],
   "source": [
    "\n",
    "import pandas as pd\n",
    "from surprise import SVD, SVDpp, NMF\n",
    "from surprise import Dataset\n",
    "from surprise.model_selection import cross_validate"
   ]
  },
  {
   "cell_type": "code",
   "execution_count": 3,
   "metadata": {},
   "outputs": [],
   "source": [
    "\n",
    "data = Dataset.load_builtin('ml-100k')\n"
   ]
  },
  {
   "cell_type": "code",
   "execution_count": 4,
   "metadata": {},
   "outputs": [
    {
     "name": "stdout",
     "output_type": "stream",
     "text": [
      "Evaluating RMSE, MAE of algorithm SVD on 10 split(s).\n",
      "\n",
      "                  Fold 1  Fold 2  Fold 3  Fold 4  Fold 5  Fold 6  Fold 7  Fold 8  Fold 9  Fold 10 Mean    Std     \n",
      "RMSE (testset)    0.9317  0.9323  0.9269  0.9265  0.9317  0.9310  0.9282  0.9337  0.9333  0.9292  0.9305  0.0025  \n",
      "MAE (testset)     0.7352  0.7364  0.7309  0.7310  0.7293  0.7348  0.7243  0.7357  0.7347  0.7338  0.7326  0.0036  \n",
      "Fit time          1.03    1.04    1.05    1.13    1.02    1.13    1.27    1.10    0.99    0.98    1.07    0.08    \n",
      "Test time         0.13    0.05    0.06    0.10    0.04    0.06    0.10    0.05    0.05    0.10    0.07    0.03    \n"
     ]
    }
   ],
   "source": [
    "#SVD\n",
    "\n",
    "data_svd = SVD()\n",
    "result = cross_validate(data_svd, data, measures=['RMSE', 'MAE'], cv=10, verbose=True)\n",
    "svd_result = pd.DataFrame.from_dict(result).mean(axis=0)"
   ]
  },
  {
   "cell_type": "code",
   "execution_count": 5,
   "metadata": {},
   "outputs": [
    {
     "name": "stdout",
     "output_type": "stream",
     "text": [
      "Evaluating RMSE, MAE of algorithm SVDpp on 10 split(s).\n",
      "\n",
      "                  Fold 1  Fold 2  Fold 3  Fold 4  Fold 5  Fold 6  Fold 7  Fold 8  Fold 9  Fold 10 Mean    Std     \n",
      "RMSE (testset)    0.9107  0.9111  0.9152  0.9201  0.9107  0.9075  0.9095  0.9148  0.9141  0.9080  0.9122  0.0037  \n",
      "MAE (testset)     0.7125  0.7127  0.7163  0.7193  0.7174  0.7109  0.7125  0.7166  0.7106  0.7144  0.7143  0.0028  \n",
      "Fit time          18.62   17.94   17.88   17.72   18.17   18.02   17.93   17.89   17.97   17.75   17.99   0.24    \n",
      "Test time         1.97    1.95    2.01    2.02    2.08    1.99    1.99    2.02    1.99    1.97    2.00    0.04    \n"
     ]
    }
   ],
   "source": [
    "#SVD++\n",
    "\n",
    "data_svdpp = SVDpp()\n",
    "result_svdpp = cross_validate(data_svdpp, data, measures=['RMSE', 'MAE'], cv=10, verbose=True)\n",
    "svdpp_result = pd.DataFrame.from_dict(result_svdpp).mean(axis=0)"
   ]
  },
  {
   "cell_type": "code",
   "execution_count": 6,
   "metadata": {},
   "outputs": [
    {
     "name": "stdout",
     "output_type": "stream",
     "text": [
      "Evaluating RMSE, MAE of algorithm NMF on 10 split(s).\n",
      "\n",
      "                  Fold 1  Fold 2  Fold 3  Fold 4  Fold 5  Fold 6  Fold 7  Fold 8  Fold 9  Fold 10 Mean    Std     \n",
      "RMSE (testset)    0.9612  0.9475  0.9550  0.9498  0.9487  0.9531  0.9655  0.9675  0.9634  0.9614  0.9573  0.0070  \n",
      "MAE (testset)     0.7569  0.7461  0.7489  0.7456  0.7441  0.7506  0.7597  0.7641  0.7559  0.7564  0.7528  0.0064  \n",
      "Fit time          1.81    1.66    1.68    1.67    1.65    1.66    1.67    1.64    1.65    1.64    1.67    0.05    \n",
      "Test time         0.09    0.04    0.04    0.03    0.04    0.03    0.10    0.04    0.04    0.09    0.05    0.03    \n"
     ]
    }
   ],
   "source": [
    "#NMF\n",
    "\n",
    "data_nmf = NMF()\n",
    "result_nmf = cross_validate(data_nmf, data, measures=['RMSE', 'MAE'], cv=10, verbose=True)\n",
    "nmf_result = pd.DataFrame.from_dict(result_nmf).mean(axis=0)"
   ]
  },
  {
   "cell_type": "code",
   "execution_count": 9,
   "metadata": {},
   "outputs": [
    {
     "name": "stdout",
     "output_type": "stream",
     "text": [
      "                SVD      SVDpp       NMF\n",
      "test_rmse  0.930457   0.912173  0.957310\n",
      "test_mae   0.732613   0.714339  0.752832\n",
      "fit_time   1.074869  17.989725  1.674353\n",
      "test_time  0.073786   1.999038  0.054116\n"
     ]
    }
   ],
   "source": [
    "all_result = pd.DataFrame(columns=['SVD', 'SVDpp', 'NMF'])\n",
    "\n",
    "all_result['SVD'] = svd_result\n",
    "all_result['SVDpp'] = svdpp_result\n",
    "all_result['NMF'] = nmf_result\n",
    "\n",
    "print(all_result)"
   ]
  },
  {
   "cell_type": "markdown",
   "metadata": {},
   "source": [
    "1. SVD має середню точність але дуже швидке обчислення.\n",
    "\n",
    "2. SVD++ має найкращу точність але дуже повільне обчислення в порівнянні з SVD та NMF. \n",
    "\n",
    "3. NMF має найгіршу точність, та середню швидкість обчислення.\n",
    "\n",
    "4. На мою думку краще використовувати SVD алгоритм. Мінімальні затрати ресурсів з приємлемим результатом, але коли результат повинен бути максимально точний краще використовувати SVD++."
   ]
  }
 ],
 "metadata": {
  "kernelspec": {
   "display_name": "Python 3",
   "language": "python",
   "name": "python3"
  },
  "language_info": {
   "codemirror_mode": {
    "name": "ipython",
    "version": 3
   },
   "file_extension": ".py",
   "mimetype": "text/x-python",
   "name": "python",
   "nbconvert_exporter": "python",
   "pygments_lexer": "ipython3",
   "version": "3.11.9"
  }
 },
 "nbformat": 4,
 "nbformat_minor": 2
}
