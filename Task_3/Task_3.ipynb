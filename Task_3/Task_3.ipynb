{
  "nbformat": 4,
  "nbformat_minor": 0,
  "metadata": {
    "colab": {
      "provenance": []
    },
    "kernelspec": {
      "name": "python3",
      "display_name": "Python 3"
    },
    "language_info": {
      "name": "python"
    }
  },
  "cells": [
    {
      "cell_type": "code",
      "execution_count": 21,
      "metadata": {
        "id": "Lz6Tlf6wAXZ2"
      },
      "outputs": [],
      "source": [
        "import pandas as pd\n",
        "import numpy as np\n",
        "\n",
        "# Load the dataset\n",
        "\n",
        "\n",
        "df = pd.read_csv('housing.csv')"
      ]
    },
    {
      "cell_type": "code",
      "source": [
        "\n",
        "def hypothesis(X, w):\n",
        "    return np.dot(X, w)"
      ],
      "metadata": {
        "id": "1wXhuAx6Ac8I"
      },
      "execution_count": 14,
      "outputs": []
    },
    {
      "cell_type": "code",
      "source": [
        "def loss(X, y, w):\n",
        "    m = len(y)\n",
        "    predictions = hypothesis(X, w)\n",
        "    errors = predictions - y\n",
        "    return 1 / (2 * m) * np.sum(errors ** 2)"
      ],
      "metadata": {
        "id": "0DMITUqoAddZ"
      },
      "execution_count": 15,
      "outputs": []
    },
    {
      "cell_type": "code",
      "source": [
        "\n",
        "def gradient_descent_step(X, y, w, learning_rate, lambda_):\n",
        "    m = len(y)\n",
        "    predictions = hypothesis(X, w)\n",
        "    errors = predictions - y\n",
        "    gradient = 1 / m * np.dot(X.T, errors)\n",
        "    # Add L2 regularization term to the gradient\n",
        "    gradient += (2 * lambda_ / m) * w\n",
        "    w -= learning_rate * gradient\n",
        "    return w"
      ],
      "metadata": {
        "id": "Q0OIg4EmAe0h"
      },
      "execution_count": 35,
      "outputs": []
    },
    {
      "cell_type": "code",
      "source": [
        "def gradient_descent(X, y, learning_rate, num_iterations, lambda_):\n",
        "    m, n = X.shape\n",
        "    w = np.zeros(n)\n",
        "    for _ in range(num_iterations):\n",
        "        w = gradient_descent_step(X, y, w, learning_rate, lambda_)\n",
        "    return w\n"
      ],
      "metadata": {
        "id": "RBLqofTbAh_L"
      },
      "execution_count": 34,
      "outputs": []
    },
    {
      "cell_type": "code",
      "source": [
        "def normalization(data):\n",
        "\n",
        "  mean = np.mean(data)\n",
        "  value_range = np.max(data) - np.min(data)\n",
        "  result = []\n",
        "  for x in data:\n",
        "    norm_x = (x-mean)/value_range\n",
        "    result.append(norm_x)\n",
        "\n",
        "  return result"
      ],
      "metadata": {
        "id": "NPBNBdadBe1E"
      },
      "execution_count": 11,
      "outputs": []
    },
    {
      "cell_type": "code",
      "source": [
        "norm = pd.DataFrame()\n",
        "\n",
        "\n",
        "norm['price'] = normalization(df.price)\n",
        "norm['area'] = normalization(df.area)\n",
        "norm['bathrooms'] = normalization(df.bathrooms)\n",
        "norm['bedrooms'] = normalization(df.bedrooms)\n",
        "print(norm.head(5))\n",
        "\n",
        "X = norm[['area', 'bathrooms', 'bedrooms']]\n",
        "y = norm['price']\n",
        "\n",
        "\n",
        "X = X.values\n",
        "y = y.values\n",
        "lambda_ = 0.01\n",
        "# Initialize weights\n",
        "w_0 = 0\n",
        "w_1 = 0\n",
        "\n",
        "learning_rate = 0.8\n",
        "num_iterations = 1000\n",
        "\n",
        "# Gradient descent\n",
        "w_gradient_descent = gradient_descent(X, y, learning_rate, num_iterations, lambda_)\n",
        "\n",
        "w_analytical = np.linalg.pinv(X.T @ X) @ X.T @ y\n",
        "print('Analytical Solution - Optimal w:', w_analytical)\n",
        "\n",
        "print(\"Best parameters using gradient descent:\", w_gradient_descent)\n"
      ],
      "metadata": {
        "colab": {
          "base_uri": "https://localhost:8080/"
        },
        "id": "eq3p2BGsHrW4",
        "outputId": "197d1587-5779-4798-dd59-4dcdcda5bfe7"
      },
      "execution_count": 66,
      "outputs": [
        {
          "output_type": "stream",
          "name": "stdout",
          "text": [
            "      price      area  bathrooms  bedrooms\n",
            "0  0.738811  0.155977   0.237920  0.206972\n",
            "1  0.647902  0.261818   0.904587  0.206972\n",
            "2  0.647902  0.330547   0.237920  0.006972\n",
            "3  0.644872  0.161475   0.237920  0.206972\n",
            "4  0.575175  0.155977  -0.095413  0.206972\n",
            "Analytical Solution - Optimal w: [0.47714269 0.36001286 0.17611257]\n",
            "Best parameters using gradient descent: [0.47643498 0.3596789  0.17606596]\n"
          ]
        }
      ]
    }
  ]
}