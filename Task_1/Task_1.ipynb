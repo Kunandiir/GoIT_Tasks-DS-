{
  "cells": [
    {
      "cell_type": "code",
      "execution_count": 19,
      "metadata": {
        "colab": {
          "base_uri": "https://localhost:8080/"
        },
        "id": "Q8_8wPhF4eeY",
        "outputId": "acab8f91-5c69-4418-ec38-82d86eab32fa"
      },
      "outputs": [
        {
          "name": "stdout",
          "output_type": "stream",
          "text": [
            "[ 1  2  3  4  5  6  7  8  9 10]\n"
          ]
        }
      ],
      "source": [
        "import numpy as np\n",
        "\n",
        "# Create a one-dimensional array with the first 10 natural numbers\n",
        "a = np.arange(1, 11)\n",
        "\n",
        "print(a)"
      ]
    },
    {
      "cell_type": "code",
      "execution_count": 20,
      "metadata": {
        "colab": {
          "base_uri": "https://localhost:8080/"
        },
        "id": "A_wXNYwv4qAd",
        "outputId": "8c7ca5ed-9408-4c82-aa79-df16c6347544"
      },
      "outputs": [
        {
          "name": "stdout",
          "output_type": "stream",
          "text": [
            "[[0. 0. 0.]\n",
            " [0. 0. 0.]\n",
            " [0. 0. 0.]]\n"
          ]
        }
      ],
      "source": [
        "# Create a 3x3 matrix filled with zeros\n",
        "a = np.zeros((3, 3))\n",
        "\n",
        "print(a)"
      ]
    },
    {
      "cell_type": "code",
      "execution_count": 21,
      "metadata": {
        "colab": {
          "base_uri": "https://localhost:8080/"
        },
        "id": "ncp6pT864wJl",
        "outputId": "3c88eee3-6920-461e-ae35-8c1983ef7e06"
      },
      "outputs": [
        {
          "name": "stdout",
          "output_type": "stream",
          "text": [
            "[[ 8  2  2  2  2]\n",
            " [ 2  6  4  8  7]\n",
            " [ 8  9 10  4  7]\n",
            " [ 1 10  6  9  2]\n",
            " [10  3  5  7  2]]\n"
          ]
        }
      ],
      "source": [
        "# Create a 5x5 matrix filled with random integers in the range from 1 to 10\n",
        "a = np.random.randint(1, 11, size=(5, 5))\n",
        "\n",
        "print(a)"
      ]
    },
    {
      "cell_type": "code",
      "execution_count": 22,
      "metadata": {
        "colab": {
          "base_uri": "https://localhost:8080/"
        },
        "id": "cT_3-kbE4yF9",
        "outputId": "64086a7a-68ad-4f1d-9fbf-25ea66e066fe"
      },
      "outputs": [
        {
          "name": "stdout",
          "output_type": "stream",
          "text": [
            "[[0.24060006 0.89470505 0.27824842 0.06282022]\n",
            " [0.49314255 0.41500133 0.49678551 0.95297172]\n",
            " [0.70573018 0.56038671 0.93228965 0.60846028]\n",
            " [0.04098642 0.5792341  0.36370936 0.6532163 ]]\n"
          ]
        }
      ],
      "source": [
        "# Create a 4x4 matrix filled with random floating-point numbers in the range from 0 to 1\n",
        "a = np.random.rand(4, 4)\n",
        "\n",
        "print(a)"
      ]
    },
    {
      "cell_type": "code",
      "execution_count": 23,
      "metadata": {
        "colab": {
          "base_uri": "https://localhost:8080/"
        },
        "id": "xHkI93Ot4698",
        "outputId": "2ec14127-f600-467d-e6e8-b395d09970f3"
      },
      "outputs": [
        {
          "name": "stdout",
          "output_type": "stream",
          "text": [
            "Addition: [ 8 13 14 17 16]\n",
            "Subtraction: [ 4  1  4  1 -4]\n",
            "Multiplication: [12 42 45 72 60]\n"
          ]
        }
      ],
      "source": [
        "# Create two one-dimensional arrays of size 5\n",
        "a = np.random.randint(1, 11, size=5)\n",
        "b = np.random.randint(1, 11, size=5)\n",
        "\n",
        "# Perform element-wise operations\n",
        "addition = a + b\n",
        "subtraction = a - b\n",
        "multiplication = a * b\n",
        "\n",
        "print(\"Addition:\", addition)\n",
        "print(\"Subtraction:\", subtraction)\n",
        "print(\"Multiplication:\", multiplication)"
      ]
    },
    {
      "cell_type": "code",
      "execution_count": 24,
      "metadata": {
        "colab": {
          "base_uri": "https://localhost:8080/"
        },
        "id": "idEYnIW64-X0",
        "outputId": "8d4de9ee-d8eb-4128-e85f-c1043a22ac07"
      },
      "outputs": [
        {
          "name": "stdout",
          "output_type": "stream",
          "text": [
            "1400\n"
          ]
        }
      ],
      "source": [
        "# Create two vectors of size 7\n",
        "a = np.array([1, 2, 3, 4, 5, 6, 7])\n",
        "b = np.array([10, 20, 30, 40, 50, 60, 70])\n",
        "\n",
        "# Find the scalar product\n",
        "scalar_product = np.dot(a, b)\n",
        "\n",
        "print(scalar_product)"
      ]
    },
    {
      "cell_type": "code",
      "execution_count": 25,
      "metadata": {
        "colab": {
          "base_uri": "https://localhost:8080/"
        },
        "id": "LKYOsetp4_pS",
        "outputId": "dcb98341-f3a3-4a84-be58-1671b27f5e64"
      },
      "outputs": [
        {
          "name": "stdout",
          "output_type": "stream",
          "text": [
            "[[78 47 61]\n",
            " [74 37 47]]\n"
          ]
        }
      ],
      "source": [
        "# Create two matrices of size 2x2 and 2x3\n",
        "a = np.random.randint(1, 11, size=(2, 2))\n",
        "b = np.random.randint(1, 11, size=(2, 3))\n",
        "\n",
        "# Multiply the matrices\n",
        "result = np.dot(a, b)\n",
        "\n",
        "print(result)"
      ]
    },
    {
      "cell_type": "code",
      "execution_count": 26,
      "metadata": {
        "colab": {
          "base_uri": "https://localhost:8080/"
        },
        "id": "aAPpMRsB5Bme",
        "outputId": "376d9349-3bbb-4771-8fa0-9f73fc021cb7"
      },
      "outputs": [
        {
          "name": "stdout",
          "output_type": "stream",
          "text": [
            "[[-5.00000000e-01 -3.00000000e+00  1.30000000e+00]\n",
            " [ 5.00000000e-01  2.00000000e+00 -9.00000000e-01]\n",
            " [ 5.55111512e-17  1.00000000e+00 -2.00000000e-01]]\n"
          ]
        }
      ],
      "source": [
        "# Create a 3x3 matrix filled with random integers in the range from 1 to 10\n",
        "a = np.random.randint(1, 11, size=(3, 3))\n",
        "\n",
        "# Find the inverse of the matrix\n",
        "inverse = np.linalg.inv(a)\n",
        "\n",
        "print(inverse)"
      ]
    },
    {
      "cell_type": "code",
      "execution_count": 27,
      "metadata": {
        "colab": {
          "base_uri": "https://localhost:8080/"
        },
        "id": "Ujlikm9B5CW_",
        "outputId": "f89eefe0-04d4-4ee5-c157-c967fddbb06d"
      },
      "outputs": [
        {
          "name": "stdout",
          "output_type": "stream",
          "text": [
            "[[0.80498023 0.18066538 0.30912242 0.25720263]\n",
            " [0.31331656 0.62760284 0.75670773 0.93326483]\n",
            " [0.54442204 0.66767359 0.90650024 0.34914248]\n",
            " [0.98339851 0.1291283  0.49686071 0.92962336]]\n"
          ]
        }
      ],
      "source": [
        "# Create a 4x4 matrix filled with random floating-point numbers in the range from 0 to 1\n",
        "a = np.random.rand(4, 4)\n",
        "\n",
        "# Transpose the matrix\n",
        "transposed = np.transpose(a)\n",
        "\n",
        "\n",
        "print(transposed)"
      ]
    },
    {
      "cell_type": "code",
      "execution_count": 28,
      "metadata": {
        "colab": {
          "base_uri": "https://localhost:8080/"
        },
        "id": "cPrmhpL25Enb",
        "outputId": "17738d2c-e016-4fbd-9e8a-09cd3da1020a"
      },
      "outputs": [
        {
          "name": "stdout",
          "output_type": "stream",
          "text": [
            "[ 82 118 164]\n"
          ]
        }
      ],
      "source": [
        "\n",
        "# Create a 3x4 matrix and a 4-element vector filled with random integers in the range from 1 to 10\n",
        "a = np.random.randint(1, 11, size=(3, 4))\n",
        "b = np.random.randint(1, 11, size=4)\n",
        "\n",
        "# Multiply the matrix by the vector\n",
        "result = np.dot(a, b)\n",
        "\n",
        "print(result)"
      ]
    },
    {
      "cell_type": "code",
      "execution_count": 29,
      "metadata": {
        "colab": {
          "base_uri": "https://localhost:8080/"
        },
        "id": "oHa_UEIO5F7-",
        "outputId": "b33b7607-8741-48f2-a6c7-d5926472b985"
      },
      "outputs": [
        {
          "name": "stdout",
          "output_type": "stream",
          "text": [
            "[0.95269999 0.75323373]\n"
          ]
        }
      ],
      "source": [
        "\n",
        "# Create a 2x3 matrix and a 3-element vector filled with random floating-point numbers in the range from 0 to 1\n",
        "a = np.random.rand(2, 3)\n",
        "b = np.random.rand(3)\n",
        "\n",
        "# Multiply the matrix by the vector\n",
        "result = np.dot(a, b)\n",
        "\n",
        "print(result)"
      ]
    },
    {
      "cell_type": "code",
      "execution_count": 30,
      "metadata": {
        "colab": {
          "base_uri": "https://localhost:8080/"
        },
        "id": "KKiSIgC95IME",
        "outputId": "40600e76-2c42-483e-f407-e552d1820314"
      },
      "outputs": [
        {
          "name": "stdout",
          "output_type": "stream",
          "text": [
            "[[30 14]\n",
            " [42  5]]\n"
          ]
        }
      ],
      "source": [
        "\n",
        "# Create two 2x2 matrices filled with random integers in the range from 1 to 10\n",
        "a = np.random.randint(1, 11, size=(2, 2))\n",
        "b = np.random.randint(1, 11, size=(2, 2))\n",
        "\n",
        "# Perform element-wise multiplication\n",
        "element_wise_product = a * b\n",
        "\n",
        "print(element_wise_product)"
      ]
    },
    {
      "cell_type": "code",
      "execution_count": 31,
      "metadata": {
        "colab": {
          "base_uri": "https://localhost:8080/"
        },
        "id": "ty7b5KIg5JsV",
        "outputId": "01365c5a-17f3-4ef6-ec46-adb831d3c00d"
      },
      "outputs": [
        {
          "name": "stdout",
          "output_type": "stream",
          "text": [
            "[[24 20]\n",
            " [27 25]]\n"
          ]
        }
      ],
      "source": [
        "# Create two 2x2 matrices filled with random integers in the range from 1 to 10\n",
        "a = np.random.randint(1, 11, size=(2, 2))\n",
        "b = np.random.randint(1, 11, size=(2, 2))\n",
        "\n",
        "# Find the product of the matrices\n",
        "result = np.dot(a, b)\n",
        "\n",
        "\n",
        "print(result)"
      ]
    },
    {
      "cell_type": "code",
      "execution_count": 32,
      "metadata": {
        "colab": {
          "base_uri": "https://localhost:8080/"
        },
        "id": "eEfOu6B15Pie",
        "outputId": "6eeb8ec1-9326-4b72-e46f-46c51640e0c5"
      },
      "outputs": [
        {
          "name": "stdout",
          "output_type": "stream",
          "text": [
            "1501\n"
          ]
        }
      ],
      "source": [
        "# Create a 5x5 matrix filled with random integers in the range from 1 to 100\n",
        "a = np.random.randint(1, 101, size=(5, 5))\n",
        "\n",
        "# Find the sum of the elements\n",
        "sum_elements = np.sum(a)\n",
        "\n",
        "print(sum_elements)"
      ]
    },
    {
      "cell_type": "code",
      "execution_count": 33,
      "metadata": {
        "colab": {
          "base_uri": "https://localhost:8080/"
        },
        "id": "S43q6gIY5RpU",
        "outputId": "d8389af4-6848-49a7-b932-2c1b8e58441c"
      },
      "outputs": [
        {
          "name": "stdout",
          "output_type": "stream",
          "text": [
            "[[-2  3 -1 -2]\n",
            " [-4  0  0  4]\n",
            " [ 5  9  3  7]\n",
            " [ 0 -1  2  2]]\n"
          ]
        }
      ],
      "source": [
        "# Create two 4x4 matrices filled with random integers in the range from 1 to 10\n",
        "a = np.random.randint(1, 11, size=(4, 4))\n",
        "b = np.random.randint(1, 11, size=(4, 4))\n",
        "\n",
        "# Find the difference of the matrices\n",
        "result = a - b\n",
        "\n",
        "\n",
        "print(result)"
      ]
    },
    {
      "cell_type": "code",
      "execution_count": 34,
      "metadata": {
        "colab": {
          "base_uri": "https://localhost:8080/"
        },
        "id": "UVny2HvZ5S0F",
        "outputId": "b5c82a91-e8e2-40b1-9492-e05066691f65"
      },
      "outputs": [
        {
          "name": "stdout",
          "output_type": "stream",
          "text": [
            "[1.31724539 1.19574548 1.06757923]\n"
          ]
        }
      ],
      "source": [
        "# Create a 3x3 matrix filled with random floating-point numbers in the range from 0 to 1\n",
        "a = np.random.rand(3, 3)\n",
        "\n",
        "# Find the vector of row sums\n",
        "row_sums = np.sum(a, axis=1)\n",
        "\n",
        "print(row_sums)"
      ]
    },
    {
      "cell_type": "code",
      "execution_count": 35,
      "metadata": {
        "colab": {
          "base_uri": "https://localhost:8080/"
        },
        "id": "Kq5_-wbZ5U8b",
        "outputId": "3d450791-cc20-4f6f-fe98-fbe111b93e71"
      },
      "outputs": [
        {
          "name": "stdout",
          "output_type": "stream",
          "text": [
            "[[  1   4   9  16]\n",
            " [ 25  36  49  64]\n",
            " [ 81 100 121 144]]\n"
          ]
        }
      ],
      "source": [
        "# Create a 3x4 matrix with arbitrary integers\n",
        "a = np.array([[1, 2, 3, 4], [5, 6, 7, 8], [9, 10, 11, 12]])\n",
        "\n",
        "# Create a matrix with the squares of its elements\n",
        "squares = a ** 2\n",
        "\n",
        "\n",
        "print(squares)"
      ]
    },
    {
      "cell_type": "code",
      "execution_count": 36,
      "metadata": {
        "colab": {
          "base_uri": "https://localhost:8080/"
        },
        "id": "3zYcip7X5Wp1",
        "outputId": "371b319e-fd05-4131-921a-f8a1426600a8"
      },
      "outputs": [
        {
          "name": "stdout",
          "output_type": "stream",
          "text": [
            "[4. 5. 6. 7.]\n"
          ]
        }
      ],
      "source": [
        "# Create a 4-element vector with arbitrary integers\n",
        "a = np.array([16, 25, 36, 49])\n",
        "\n",
        "# Create a vector with the square roots of its elements\n",
        "square_roots = np.sqrt(a)\n",
        "\n",
        "\n",
        "print(square_roots)"
      ]
    }
  ],
  "metadata": {
    "colab": {
      "provenance": []
    },
    "kernelspec": {
      "display_name": "Python 3",
      "name": "python3"
    },
    "language_info": {
      "codemirror_mode": {
        "name": "ipython",
        "version": 3
      },
      "file_extension": ".py",
      "mimetype": "text/x-python",
      "name": "python",
      "nbconvert_exporter": "python",
      "pygments_lexer": "ipython3",
      "version": "3.11.9"
    }
  },
  "nbformat": 4,
  "nbformat_minor": 0
}
