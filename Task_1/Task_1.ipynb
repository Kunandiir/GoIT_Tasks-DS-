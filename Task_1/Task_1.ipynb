{
  "nbformat": 4,
  "nbformat_minor": 0,
  "metadata": {
    "colab": {
      "provenance": []
    },
    "kernelspec": {
      "name": "python3",
      "display_name": "Python 3"
    },
    "language_info": {
      "name": "python"
    }
  },
  "cells": [
    {
      "cell_type": "code",
      "execution_count": 3,
      "metadata": {
        "colab": {
          "base_uri": "https://localhost:8080/"
        },
        "id": "Q8_8wPhF4eeY",
        "outputId": "acab8f91-5c69-4418-ec38-82d86eab32fa"
      },
      "outputs": [
        {
          "output_type": "stream",
          "name": "stdout",
          "text": [
            "[ 1  2  3  4  5  6  7  8  9 10]\n"
          ]
        }
      ],
      "source": [
        "import numpy as np\n",
        "\n",
        "# Create a one-dimensional array with the first 10 natural numbers\n",
        "a = np.arange(1, 11)\n",
        "\n",
        "print(a)"
      ]
    },
    {
      "cell_type": "code",
      "source": [
        "# Create a 3x3 matrix filled with zeros\n",
        "a = np.zeros((3, 3))\n",
        "\n",
        "print(a)"
      ],
      "metadata": {
        "colab": {
          "base_uri": "https://localhost:8080/"
        },
        "id": "A_wXNYwv4qAd",
        "outputId": "8c7ca5ed-9408-4c82-aa79-df16c6347544"
      },
      "execution_count": 4,
      "outputs": [
        {
          "output_type": "stream",
          "name": "stdout",
          "text": [
            "[[0. 0. 0.]\n",
            " [0. 0. 0.]\n",
            " [0. 0. 0.]]\n"
          ]
        }
      ]
    },
    {
      "cell_type": "code",
      "source": [
        "# Create a 5x5 matrix filled with random integers in the range from 1 to 10\n",
        "a = np.random.randint(1, 11, size=(5, 5))\n",
        "\n",
        "print(a)"
      ],
      "metadata": {
        "colab": {
          "base_uri": "https://localhost:8080/"
        },
        "id": "ncp6pT864wJl",
        "outputId": "3c88eee3-6920-461e-ae35-8c1983ef7e06"
      },
      "execution_count": 5,
      "outputs": [
        {
          "output_type": "stream",
          "name": "stdout",
          "text": [
            "[[ 9  3  9  9  1]\n",
            " [ 2  6 10  7  2]\n",
            " [ 6  7  8  7  7]\n",
            " [ 5  1  5 10  6]\n",
            " [ 3  2 10  8  2]]\n"
          ]
        }
      ]
    },
    {
      "cell_type": "code",
      "source": [
        "# Create a 4x4 matrix filled with random floating-point numbers in the range from 0 to 1\n",
        "a = np.random.rand(4, 4)\n",
        "\n",
        "print(a)"
      ],
      "metadata": {
        "colab": {
          "base_uri": "https://localhost:8080/"
        },
        "id": "cT_3-kbE4yF9",
        "outputId": "64086a7a-68ad-4f1d-9fbf-25ea66e066fe"
      },
      "execution_count": 7,
      "outputs": [
        {
          "output_type": "stream",
          "name": "stdout",
          "text": [
            "[[0.87880837 0.08725327 0.25372652 0.14936489]\n",
            " [0.1061566  0.20100387 0.51736973 0.8682906 ]\n",
            " [0.19863817 0.93986689 0.77671979 0.63280328]\n",
            " [0.20826273 0.46173356 0.57318319 0.89590799]]\n"
          ]
        }
      ]
    },
    {
      "cell_type": "code",
      "source": [
        "# Create two one-dimensional arrays of size 5\n",
        "a = np.random.randint(1, 11, size=5)\n",
        "b = np.random.randint(1, 11, size=5)\n",
        "\n",
        "# Perform element-wise operations\n",
        "addition = a + b\n",
        "subtraction = a - b\n",
        "multiplication = a * b\n",
        "\n",
        "print(\"Addition:\", addition)\n",
        "print(\"Subtraction:\", subtraction)\n",
        "print(\"Multiplication:\", multiplication)"
      ],
      "metadata": {
        "colab": {
          "base_uri": "https://localhost:8080/"
        },
        "id": "xHkI93Ot4698",
        "outputId": "2ec14127-f600-467d-e6e8-b395d09970f3"
      },
      "execution_count": 8,
      "outputs": [
        {
          "output_type": "stream",
          "name": "stdout",
          "text": [
            "Addition: [ 7  2 19  7  7]\n",
            "Subtraction: [-5  0  1  1  3]\n",
            "Multiplication: [ 6  1 90 12 10]\n"
          ]
        }
      ]
    },
    {
      "cell_type": "code",
      "source": [
        "# Create two vectors of size 7\n",
        "a = np.array([1, 2, 3, 4, 5, 6, 7])\n",
        "b = np.array([10, 20, 30, 40, 50, 60, 70])\n",
        "\n",
        "# Find the scalar product\n",
        "scalar_product = np.dot(a, b)\n",
        "\n",
        "print(scalar_product)"
      ],
      "metadata": {
        "colab": {
          "base_uri": "https://localhost:8080/"
        },
        "id": "idEYnIW64-X0",
        "outputId": "8d4de9ee-d8eb-4128-e85f-c1043a22ac07"
      },
      "execution_count": 9,
      "outputs": [
        {
          "output_type": "stream",
          "name": "stdout",
          "text": [
            "1400\n"
          ]
        }
      ]
    },
    {
      "cell_type": "code",
      "source": [
        "# Create two matrices of size 2x2 and 2x3\n",
        "a = np.random.randint(1, 11, size=(2, 2))\n",
        "b = np.random.randint(1, 11, size=(2, 3))\n",
        "\n",
        "# Multiply the matrices\n",
        "result = np.dot(a, b)\n",
        "\n",
        "print(result)"
      ],
      "metadata": {
        "colab": {
          "base_uri": "https://localhost:8080/"
        },
        "id": "LKYOsetp4_pS",
        "outputId": "dcb98341-f3a3-4a84-be58-1671b27f5e64"
      },
      "execution_count": 10,
      "outputs": [
        {
          "output_type": "stream",
          "name": "stdout",
          "text": [
            "[[24 33 45]\n",
            " [31 46 21]]\n"
          ]
        }
      ]
    },
    {
      "cell_type": "code",
      "source": [
        "# Create a 3x3 matrix filled with random integers in the range from 1 to 10\n",
        "a = np.random.randint(1, 11, size=(3, 3))\n",
        "\n",
        "# Find the inverse of the matrix\n",
        "inverse = np.linalg.inv(a)\n",
        "\n",
        "print(inverse)"
      ],
      "metadata": {
        "colab": {
          "base_uri": "https://localhost:8080/"
        },
        "id": "aAPpMRsB5Bme",
        "outputId": "376d9349-3bbb-4771-8fa0-9f73fc021cb7"
      },
      "execution_count": 11,
      "outputs": [
        {
          "output_type": "stream",
          "name": "stdout",
          "text": [
            "[[-1.          0.43589744  0.02564103]\n",
            " [ 2.         -0.94871795  0.17948718]\n",
            " [ 0.          0.12820513 -0.05128205]]\n"
          ]
        }
      ]
    },
    {
      "cell_type": "code",
      "source": [
        "# Create a 4x4 matrix filled with random floating-point numbers in the range from 0 to 1\n",
        "a = np.random.rand(4, 4)\n",
        "\n",
        "# Transpose the matrix\n",
        "transposed = np.transpose(a)\n",
        "\n",
        "\n",
        "print(transposed)"
      ],
      "metadata": {
        "colab": {
          "base_uri": "https://localhost:8080/"
        },
        "id": "Ujlikm9B5CW_",
        "outputId": "f89eefe0-04d4-4ee5-c157-c967fddbb06d"
      },
      "execution_count": 12,
      "outputs": [
        {
          "output_type": "stream",
          "name": "stdout",
          "text": [
            "[[0.50420914 0.33352318 0.3310336  0.27242183]\n",
            " [0.4453156  0.41943417 0.79883595 0.61277218]\n",
            " [0.46972249 0.5238682  0.9880503  0.75308119]\n",
            " [0.06380013 0.46766479 0.23867913 0.21048765]]\n"
          ]
        }
      ]
    },
    {
      "cell_type": "code",
      "source": [
        "\n",
        "# Create a 3x4 matrix and a 4-element vector filled with random integers in the range from 1 to 10\n",
        "a = np.random.randint(1, 11, size=(3, 4))\n",
        "b = np.random.randint(1, 11, size=4)\n",
        "\n",
        "# Multiply the matrix by the vector\n",
        "result = np.dot(a, b)\n",
        "\n",
        "print(result)"
      ],
      "metadata": {
        "colab": {
          "base_uri": "https://localhost:8080/"
        },
        "id": "cPrmhpL25Enb",
        "outputId": "17738d2c-e016-4fbd-9e8a-09cd3da1020a"
      },
      "execution_count": 13,
      "outputs": [
        {
          "output_type": "stream",
          "name": "stdout",
          "text": [
            "[126 118  60]\n"
          ]
        }
      ]
    },
    {
      "cell_type": "code",
      "source": [
        "\n",
        "# Create a 2x3 matrix and a 3-element vector filled with random floating-point numbers in the range from 0 to 1\n",
        "a = np.random.rand(2, 3)\n",
        "b = np.random.rand(3)\n",
        "\n",
        "# Multiply the matrix by the vector\n",
        "result = np.dot(a, b)\n",
        "\n",
        "print(result)"
      ],
      "metadata": {
        "colab": {
          "base_uri": "https://localhost:8080/"
        },
        "id": "oHa_UEIO5F7-",
        "outputId": "b33b7607-8741-48f2-a6c7-d5926472b985"
      },
      "execution_count": 14,
      "outputs": [
        {
          "output_type": "stream",
          "name": "stdout",
          "text": [
            "[0.12298725 0.53290924]\n"
          ]
        }
      ]
    },
    {
      "cell_type": "code",
      "source": [
        "\n",
        "# Create two 2x2 matrices filled with random integers in the range from 1 to 10\n",
        "a = np.random.randint(1, 11, size=(2, 2))\n",
        "b = np.random.randint(1, 11, size=(2, 2))\n",
        "\n",
        "# Perform element-wise multiplication\n",
        "element_wise_product = a * b\n",
        "\n",
        "print(element_wise_product)"
      ],
      "metadata": {
        "colab": {
          "base_uri": "https://localhost:8080/"
        },
        "id": "KKiSIgC95IME",
        "outputId": "40600e76-2c42-483e-f407-e552d1820314"
      },
      "execution_count": 15,
      "outputs": [
        {
          "output_type": "stream",
          "name": "stdout",
          "text": [
            "[[30 21]\n",
            " [18 36]]\n"
          ]
        }
      ]
    },
    {
      "cell_type": "code",
      "source": [
        "# Create two 2x2 matrices filled with random integers in the range from 1 to 10\n",
        "a = np.random.randint(1, 11, size=(2, 2))\n",
        "b = np.random.randint(1, 11, size=(2, 2))\n",
        "\n",
        "# Find the product of the matrices\n",
        "result = np.dot(a, b)\n",
        "\n",
        "\n",
        "print(result)"
      ],
      "metadata": {
        "colab": {
          "base_uri": "https://localhost:8080/"
        },
        "id": "ty7b5KIg5JsV",
        "outputId": "01365c5a-17f3-4ef6-ec46-adb831d3c00d"
      },
      "execution_count": 16,
      "outputs": [
        {
          "output_type": "stream",
          "name": "stdout",
          "text": [
            "[[ 31  92]\n",
            " [ 45 100]]\n"
          ]
        }
      ]
    },
    {
      "cell_type": "code",
      "source": [
        "# Create a 5x5 matrix filled with random integers in the range from 1 to 100\n",
        "a = np.random.randint(1, 101, size=(5, 5))\n",
        "\n",
        "# Find the sum of the elements\n",
        "sum_elements = np.sum(a)\n",
        "\n",
        "print(sum_elements)"
      ],
      "metadata": {
        "colab": {
          "base_uri": "https://localhost:8080/"
        },
        "id": "eEfOu6B15Pie",
        "outputId": "6eeb8ec1-9326-4b72-e46f-46c51640e0c5"
      },
      "execution_count": 17,
      "outputs": [
        {
          "output_type": "stream",
          "name": "stdout",
          "text": [
            "1556\n"
          ]
        }
      ]
    },
    {
      "cell_type": "code",
      "source": [
        "# Create two 4x4 matrices filled with random integers in the range from 1 to 10\n",
        "a = np.random.randint(1, 11, size=(4, 4))\n",
        "b = np.random.randint(1, 11, size=(4, 4))\n",
        "\n",
        "# Find the difference of the matrices\n",
        "result = a - b\n",
        "\n",
        "\n",
        "print(result)"
      ],
      "metadata": {
        "colab": {
          "base_uri": "https://localhost:8080/"
        },
        "id": "S43q6gIY5RpU",
        "outputId": "d8389af4-6848-49a7-b932-2c1b8e58441c"
      },
      "execution_count": 18,
      "outputs": [
        {
          "output_type": "stream",
          "name": "stdout",
          "text": [
            "[[ 1 -6  4  4]\n",
            " [-4 -6  0 -2]\n",
            " [ 1 -7  0 -3]\n",
            " [-2 -3 -1 -8]]\n"
          ]
        }
      ]
    },
    {
      "cell_type": "code",
      "source": [
        "# Create a 3x3 matrix filled with random floating-point numbers in the range from 0 to 1\n",
        "a = np.random.rand(3, 3)\n",
        "\n",
        "# Find the vector of row sums\n",
        "row_sums = np.sum(a, axis=1)\n",
        "\n",
        "print(row_sums)"
      ],
      "metadata": {
        "colab": {
          "base_uri": "https://localhost:8080/"
        },
        "id": "UVny2HvZ5S0F",
        "outputId": "b5c82a91-e8e2-40b1-9492-e05066691f65"
      },
      "execution_count": 19,
      "outputs": [
        {
          "output_type": "stream",
          "name": "stdout",
          "text": [
            "[2.2081728  0.9948307  1.83877214]\n"
          ]
        }
      ]
    },
    {
      "cell_type": "code",
      "source": [
        "# Create a 3x4 matrix with arbitrary integers\n",
        "a = np.array([[1, 2, 3, 4], [5, 6, 7, 8], [9, 10, 11, 12]])\n",
        "\n",
        "# Create a matrix with the squares of its elements\n",
        "squares = a ** 2\n",
        "\n",
        "\n",
        "print(squares)"
      ],
      "metadata": {
        "colab": {
          "base_uri": "https://localhost:8080/"
        },
        "id": "Kq5_-wbZ5U8b",
        "outputId": "3d450791-cc20-4f6f-fe98-fbe111b93e71"
      },
      "execution_count": 20,
      "outputs": [
        {
          "output_type": "stream",
          "name": "stdout",
          "text": [
            "[[  1   4   9  16]\n",
            " [ 25  36  49  64]\n",
            " [ 81 100 121 144]]\n"
          ]
        }
      ]
    },
    {
      "cell_type": "code",
      "source": [
        "# Create a 4-element vector with arbitrary integers\n",
        "a = np.array([16, 25, 36, 49])\n",
        "\n",
        "# Create a vector with the square roots of its elements\n",
        "square_roots = np.sqrt(a)\n",
        "\n",
        "\n",
        "print(square_roots)"
      ],
      "metadata": {
        "colab": {
          "base_uri": "https://localhost:8080/"
        },
        "id": "3zYcip7X5Wp1",
        "outputId": "371b319e-fd05-4131-921a-f8a1426600a8"
      },
      "execution_count": 21,
      "outputs": [
        {
          "output_type": "stream",
          "name": "stdout",
          "text": [
            "[4. 5. 6. 7.]\n"
          ]
        }
      ]
    }
  ]
}