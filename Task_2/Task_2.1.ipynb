{
  "nbformat": 4,
  "nbformat_minor": 0,
  "metadata": {
    "colab": {
      "provenance": [],
      "history_visible": true
    },
    "kernelspec": {
      "name": "python3",
      "display_name": "Python 3"
    },
    "language_info": {
      "name": "python"
    }
  },
  "cells": [
    {
      "cell_type": "code",
      "execution_count": 12,
      "metadata": {
        "id": "QfrnlSz2J7og"
      },
      "outputs": [],
      "source": [
        "import pandas as pd\n",
        "import numpy as np\n",
        "# Read the HTML table\n",
        "url = 'https://uk.wikipedia.org/wiki/%D0%9D%D0%B0%D1%81%D0%B5%D0%BB%D0%B5%D0%BD%D0%BD%D1%8F_%D0%A3%D0%BA%D1%80%D0%B0%D1%97%D0%BD%D0%B8'\n",
        "table = pd.read_html(url)[12]\n"
      ]
    },
    {
      "cell_type": "code",
      "source": [
        "# Display the first few rows of the table\n",
        "print(table.head())"
      ],
      "metadata": {
        "colab": {
          "base_uri": "https://localhost:8080/"
        },
        "id": "ir7TkShzKRSr",
        "outputId": "badded88-da98-47bd-e791-4b457da36567"
      },
      "execution_count": 13,
      "outputs": [
        {
          "output_type": "stream",
          "name": "stdout",
          "text": [
            "             Регіон   1950   1960   1970  1990  2000  2012 2014 2019\n",
            "0              Крим  230.0  206.0  160.0   130    73   126    —    —\n",
            "1         Вінницька  224.0  192.0  142.0   124    84   112  109   76\n",
            "2         Волинська  247.0  250.0  179.0   153   112   148  141  101\n",
            "3  Дніпропетровська  204.0  204.0  151.0   123    71   112  111   71\n",
            "4          Донецька  271.0  214.0  140.0   109    61    98   82    —\n"
          ]
        }
      ]
    },
    {
      "cell_type": "code",
      "source": [
        "# Get the shape of the dataframe\n",
        "print(table.shape)"
      ],
      "metadata": {
        "colab": {
          "base_uri": "https://localhost:8080/"
        },
        "id": "r3CL3skuJ9-4",
        "outputId": "b7b93ca1-3ba2-4ed6-e71a-bbef29f203b6"
      },
      "execution_count": 14,
      "outputs": [
        {
          "output_type": "stream",
          "name": "stdout",
          "text": [
            "(28, 9)\n"
          ]
        }
      ]
    },
    {
      "cell_type": "code",
      "source": [
        "# Replace missing values with NaN\n",
        "table = table.replace('—', np.nan)\n",
        "print(table)"
      ],
      "metadata": {
        "colab": {
          "base_uri": "https://localhost:8080/"
        },
        "id": "Cajvm4JCKWjG",
        "outputId": "f0849028-351c-4f89-9e86-1b74c475ece9"
      },
      "execution_count": 15,
      "outputs": [
        {
          "output_type": "stream",
          "name": "stdout",
          "text": [
            "               Регіон   1950   1960   1970  1990  2000  2012 2014 2019\n",
            "0                Крим  230.0  206.0  160.0   130    73   126  NaN  NaN\n",
            "1           Вінницька  224.0  192.0  142.0   124    84   112  109   76\n",
            "2           Волинська  247.0  250.0  179.0   153   112   148  141  101\n",
            "3    Дніпропетровська  204.0  204.0  151.0   123    71   112  111   71\n",
            "4            Донецька  271.0  214.0  140.0   109    61    98   82  NaN\n",
            "5         Житомирська  261.0  223.0  159.0   129    89   122  120   79\n",
            "6        Закарпатська  314.0  273.0  207.0   168   115   151  146  104\n",
            "7          Запорізька  219.0  197.0  150.0   124    71   106  106   68\n",
            "8   Івано-Франківська  243.0  248.0  182.0   155   103   124  122   88\n",
            "9            Київська  204.0  189.0  156.0   123    73   122  121   80\n",
            "10     Кіровоградська  216.0  171.0  145.0   126    79   110  108   68\n",
            "11          Луганська  262.0  235.0  144.0   116    62    96   51  NaN\n",
            "12          Львівська  234.0  240.0  171.0   140    91   119  119   87\n",
            "13       Миколаївська  211.0  194.0  155.0   137    80   115  112   71\n",
            "14            Одеська  241.0  192.0  148.0   126    80   127  123   88\n",
            "15         Полтавська  186.0  163.0  131.0   118    70    99  100   65\n",
            "16         Рівненська  269.0  267.0  193.0   158   118   159  148  107\n",
            "17            Сумська  216.0  184.0  132.0   115    70    97   92   60\n",
            "18      Тернопільська  213.0  216.0  157.0   142    92   113  109   76\n",
            "19         Харківська  197.0  173.0  140.0   114    68    99  101   68\n",
            "20         Херсонська  208.0  214.0  166.0   143    85   117  115   81\n",
            "21        Хмельницька  234.0  198.0  148.0   129    85   113  112   79\n",
            "22          Черкаська  205.0  179.0  144.0   123    75   100   98   64\n",
            "23        Чернівецька  247.0  218.0  170.0   148   101   128  129   92\n",
            "24       Чернігівська  220.0  183.0  127.0   108    69    94   90   61\n",
            "25               Київ    NaN  174.0  159.0   120    73   120  121  110\n",
            "26        Севастополь    NaN    NaN    NaN   125    70   120  NaN  NaN\n",
            "27            Україна  228.0  205.0  152.0   126    78   114  111   81\n"
          ]
        }
      ]
    },
    {
      "cell_type": "code",
      "source": [
        "# Get the data types of each column\n",
        "print(table.dtypes)"
      ],
      "metadata": {
        "colab": {
          "base_uri": "https://localhost:8080/"
        },
        "id": "6KUMCDSMKpTU",
        "outputId": "ef376f23-a6af-46fb-e6a6-132d055a5a12"
      },
      "execution_count": 20,
      "outputs": [
        {
          "output_type": "stream",
          "name": "stdout",
          "text": [
            "Регіон     object\n",
            "1950      float64\n",
            "1960      float64\n",
            "1970      float64\n",
            "1990        int64\n",
            "2000        int64\n",
            "2012        int64\n",
            "2014       object\n",
            "2019       object\n",
            "dtype: object\n"
          ]
        }
      ]
    },
    {
      "cell_type": "code",
      "source": [
        "# Convert non-numeric columns to numeric\n",
        "num_table = table.iloc[:, :-2]\n",
        "num_table = num_table.assign(col1=table.iloc[:, -2].astype(float))\n",
        "num_table = num_table.assign(col2=table.iloc[:, -1].astype(float))\n",
        "column_mapping = {8: '2014', 9: '2019'}\n",
        "num_table.rename(columns=column_mapping, inplace=True)\n",
        "\n",
        "\n",
        "print(num_table.select_dtypes(include=['number']))"
      ],
      "metadata": {
        "colab": {
          "base_uri": "https://localhost:8080/"
        },
        "id": "1JXicGNuKuPT",
        "outputId": "31fb94f5-fcfe-454e-ac19-2feda6dbe140"
      },
      "execution_count": 28,
      "outputs": [
        {
          "output_type": "stream",
          "name": "stdout",
          "text": [
            "     1950   1960   1970  1990  2000  2012   col1   col2\n",
            "0   230.0  206.0  160.0   130    73   126    NaN    NaN\n",
            "1   224.0  192.0  142.0   124    84   112  109.0   76.0\n",
            "2   247.0  250.0  179.0   153   112   148  141.0  101.0\n",
            "3   204.0  204.0  151.0   123    71   112  111.0   71.0\n",
            "4   271.0  214.0  140.0   109    61    98   82.0    NaN\n",
            "5   261.0  223.0  159.0   129    89   122  120.0   79.0\n",
            "6   314.0  273.0  207.0   168   115   151  146.0  104.0\n",
            "7   219.0  197.0  150.0   124    71   106  106.0   68.0\n",
            "8   243.0  248.0  182.0   155   103   124  122.0   88.0\n",
            "9   204.0  189.0  156.0   123    73   122  121.0   80.0\n",
            "10  216.0  171.0  145.0   126    79   110  108.0   68.0\n",
            "11  262.0  235.0  144.0   116    62    96   51.0    NaN\n",
            "12  234.0  240.0  171.0   140    91   119  119.0   87.0\n",
            "13  211.0  194.0  155.0   137    80   115  112.0   71.0\n",
            "14  241.0  192.0  148.0   126    80   127  123.0   88.0\n",
            "15  186.0  163.0  131.0   118    70    99  100.0   65.0\n",
            "16  269.0  267.0  193.0   158   118   159  148.0  107.0\n",
            "17  216.0  184.0  132.0   115    70    97   92.0   60.0\n",
            "18  213.0  216.0  157.0   142    92   113  109.0   76.0\n",
            "19  197.0  173.0  140.0   114    68    99  101.0   68.0\n",
            "20  208.0  214.0  166.0   143    85   117  115.0   81.0\n",
            "21  234.0  198.0  148.0   129    85   113  112.0   79.0\n",
            "22  205.0  179.0  144.0   123    75   100   98.0   64.0\n",
            "23  247.0  218.0  170.0   148   101   128  129.0   92.0\n",
            "24  220.0  183.0  127.0   108    69    94   90.0   61.0\n",
            "25    NaN  174.0  159.0   120    73   120  121.0  110.0\n",
            "26    NaN    NaN    NaN   125    70   120    NaN    NaN\n"
          ]
        }
      ]
    },
    {
      "cell_type": "code",
      "source": [
        "# Calculate the percentage of missing values in each column\n",
        "\n",
        "missing_percentage = num_table.isnull().sum() / num_table.isnull().count() * 100\n",
        "print(missing_percentage)"
      ],
      "metadata": {
        "colab": {
          "base_uri": "https://localhost:8080/"
        },
        "id": "t9WOv1brK9g2",
        "outputId": "ff894f9a-a04e-481c-aeac-e3eb71e1ab41"
      },
      "execution_count": 29,
      "outputs": [
        {
          "output_type": "stream",
          "name": "stdout",
          "text": [
            "Регіон     0.000000\n",
            "1950       7.407407\n",
            "1960       3.703704\n",
            "1970       3.703704\n",
            "1990       0.000000\n",
            "2000       0.000000\n",
            "2012       0.000000\n",
            "col1       7.407407\n",
            "col2      14.814815\n",
            "dtype: float64\n"
          ]
        }
      ]
    },
    {
      "cell_type": "code",
      "source": [
        "# Remove the last row of the table\n",
        "num_table = num_table[:-1]\n",
        "print(num_table)"
      ],
      "metadata": {
        "colab": {
          "base_uri": "https://localhost:8080/"
        },
        "id": "eRV05P8MLBpJ",
        "outputId": "0d7fd9f7-0cdc-422d-d1ee-baa728755cfa"
      },
      "execution_count": 33,
      "outputs": [
        {
          "output_type": "stream",
          "name": "stdout",
          "text": [
            "     1960   1970  1990  2000  2012    col1        col2\n",
            "0   206.0  160.0   130    73   126  111.44   80.173913\n",
            "1   192.0  142.0   124    84   112  109.00   76.000000\n",
            "2   250.0  179.0   153   112   148  141.00  101.000000\n",
            "3   204.0  151.0   123    71   112  111.00   71.000000\n",
            "4   214.0  140.0   109    61    98   82.00   80.173913\n",
            "5   223.0  159.0   129    89   122  120.00   79.000000\n",
            "6   273.0  207.0   168   115   151  146.00  104.000000\n",
            "7   197.0  150.0   124    71   106  106.00   68.000000\n",
            "8   248.0  182.0   155   103   124  122.00   88.000000\n",
            "9   189.0  156.0   123    73   122  121.00   80.000000\n",
            "10  171.0  145.0   126    79   110  108.00   68.000000\n",
            "11  235.0  144.0   116    62    96   51.00   80.173913\n",
            "12  240.0  171.0   140    91   119  119.00   87.000000\n",
            "13  194.0  155.0   137    80   115  112.00   71.000000\n",
            "14  192.0  148.0   126    80   127  123.00   88.000000\n",
            "15  163.0  131.0   118    70    99  100.00   65.000000\n",
            "16  267.0  193.0   158   118   159  148.00  107.000000\n",
            "17  184.0  132.0   115    70    97   92.00   60.000000\n",
            "18  216.0  157.0   142    92   113  109.00   76.000000\n",
            "19  173.0  140.0   114    68    99  101.00   68.000000\n",
            "20  214.0  166.0   143    85   117  115.00   81.000000\n",
            "21  198.0  148.0   129    85   113  112.00   79.000000\n",
            "22  179.0  144.0   123    75   100   98.00   64.000000\n",
            "23  218.0  170.0   148   101   128  129.00   92.000000\n",
            "24  183.0  127.0   108    69    94   90.00   61.000000\n",
            "25  174.0  159.0   120    73   120  121.00  110.000000\n"
          ]
        }
      ]
    },
    {
      "cell_type": "code",
      "source": [
        "# Fill missing values with the mean of each column\n",
        "num_table = num_table.iloc[:, 2:].fillna(num_table.select_dtypes(include=['number']).mean())\n",
        "print(num_table)"
      ],
      "metadata": {
        "colab": {
          "base_uri": "https://localhost:8080/"
        },
        "id": "irpIFcBuLGsR",
        "outputId": "9aeb7fce-5d86-4d00-f05c-db5a23909ee4"
      },
      "execution_count": 30,
      "outputs": [
        {
          "output_type": "stream",
          "name": "stdout",
          "text": [
            "          1960   1970  1990  2000  2012    col1        col2\n",
            "0   206.000000  160.0   130    73   126  111.44   80.173913\n",
            "1   192.000000  142.0   124    84   112  109.00   76.000000\n",
            "2   250.000000  179.0   153   112   148  141.00  101.000000\n",
            "3   204.000000  151.0   123    71   112  111.00   71.000000\n",
            "4   214.000000  140.0   109    61    98   82.00   80.173913\n",
            "5   223.000000  159.0   129    89   122  120.00   79.000000\n",
            "6   273.000000  207.0   168   115   151  146.00  104.000000\n",
            "7   197.000000  150.0   124    71   106  106.00   68.000000\n",
            "8   248.000000  182.0   155   103   124  122.00   88.000000\n",
            "9   189.000000  156.0   123    73   122  121.00   80.000000\n",
            "10  171.000000  145.0   126    79   110  108.00   68.000000\n",
            "11  235.000000  144.0   116    62    96   51.00   80.173913\n",
            "12  240.000000  171.0   140    91   119  119.00   87.000000\n",
            "13  194.000000  155.0   137    80   115  112.00   71.000000\n",
            "14  192.000000  148.0   126    80   127  123.00   88.000000\n",
            "15  163.000000  131.0   118    70    99  100.00   65.000000\n",
            "16  267.000000  193.0   158   118   159  148.00  107.000000\n",
            "17  184.000000  132.0   115    70    97   92.00   60.000000\n",
            "18  216.000000  157.0   142    92   113  109.00   76.000000\n",
            "19  173.000000  140.0   114    68    99  101.00   68.000000\n",
            "20  214.000000  166.0   143    85   117  115.00   81.000000\n",
            "21  198.000000  148.0   129    85   113  112.00   79.000000\n",
            "22  179.000000  144.0   123    75   100   98.00   64.000000\n",
            "23  218.000000  170.0   148   101   128  129.00   92.000000\n",
            "24  183.000000  127.0   108    69    94   90.00   61.000000\n",
            "25  174.000000  159.0   120    73   120  121.00  110.000000\n",
            "26  207.576923  156.0   125    70   120  111.44   80.173913\n"
          ]
        }
      ]
    },
    {
      "cell_type": "code",
      "source": [
        "# Get the regions with a higher birth rate than the average in 2019\n",
        "\n",
        "above_average_2019 = num_table[num_table['col2'] > num_table['col2'].mean()]\n",
        "print(above_average_2019)"
      ],
      "metadata": {
        "colab": {
          "base_uri": "https://localhost:8080/"
        },
        "id": "_FELKg_NLSSd",
        "outputId": "c1964cd1-0222-431c-a82e-09500ab33c78"
      },
      "execution_count": 32,
      "outputs": [
        {
          "output_type": "stream",
          "name": "stdout",
          "text": [
            "     1960   1970  1990  2000  2012   col1   col2\n",
            "2   250.0  179.0   153   112   148  141.0  101.0\n",
            "6   273.0  207.0   168   115   151  146.0  104.0\n",
            "8   248.0  182.0   155   103   124  122.0   88.0\n",
            "12  240.0  171.0   140    91   119  119.0   87.0\n",
            "14  192.0  148.0   126    80   127  123.0   88.0\n",
            "16  267.0  193.0   158   118   159  148.0  107.0\n",
            "20  214.0  166.0   143    85   117  115.0   81.0\n",
            "23  218.0  170.0   148   101   128  129.0   92.0\n",
            "25  174.0  159.0   120    73   120  121.0  110.0\n"
          ]
        }
      ]
    },
    {
      "cell_type": "code",
      "source": [
        "# Find the region with the highest birth rate in 2014\n",
        "highest_2014 = num_table['col1'].idxmax()\n",
        "print(highest_2014)\n"
      ],
      "metadata": {
        "colab": {
          "base_uri": "https://localhost:8080/"
        },
        "id": "LWLIi1DRZp29",
        "outputId": "fa930eb9-6b24-4b65-faee-cabd79c3c821"
      },
      "execution_count": 34,
      "outputs": [
        {
          "output_type": "stream",
          "name": "stdout",
          "text": [
            "16\n"
          ]
        }
      ]
    },
    {
      "cell_type": "code",
      "source": [
        "# Create a bar chart of the birth rate in 2019\n",
        "import matplotlib.pyplot as plt\n",
        "num_table['col2'].plot(kind='bar')\n",
        "plt.show()"
      ],
      "metadata": {
        "colab": {
          "base_uri": "https://localhost:8080/",
          "height": 434
        },
        "id": "kR7Ft7_DZvsN",
        "outputId": "5226344f-e90d-45d7-bd95-d41cf8e05ff3"
      },
      "execution_count": 35,
      "outputs": [
        {
          "output_type": "display_data",
          "data": {
            "text/plain": [
              "<Figure size 640x480 with 1 Axes>"
            ],
            "image/png": "[encoded data removed]"
          },
          "metadata": {}
        }
      ]
    }
  ]
}