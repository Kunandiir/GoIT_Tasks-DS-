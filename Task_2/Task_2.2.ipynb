{
  "nbformat": 4,
  "nbformat_minor": 0,
  "metadata": {
    "colab": {
      "provenance": []
    },
    "kernelspec": {
      "name": "python3",
      "display_name": "Python 3"
    },
    "language_info": {
      "name": "python"
    }
  },
  "cells": [
    {
      "cell_type": "code",
      "execution_count": 17,
      "metadata": {
        "id": "dPxchpnfpi0s"
      },
      "outputs": [],
      "source": [
        "import pandas as pd\n",
        "\n",
        "data = pd.read_csv(\"2017_jun_final - 2017_jun_final.csv\")\n"
      ]
    },
    {
      "cell_type": "code",
      "source": [
        "# 1\n",
        "print(data.head())"
      ],
      "metadata": {
        "colab": {
          "base_uri": "https://localhost:8080/"
        },
        "id": "n2jfGB1vqMnt",
        "outputId": "0ee21e7b-d848-4f3e-f0a4-322cf76d6cbb"
      },
      "execution_count": 18,
      "outputs": [
        {
          "output_type": "stream",
          "name": "stdout",
          "text": [
            "   N                    Посада Мова програмування Спеціалізація  \\\n",
            "0  1        Junior QA engineer                NaN     Manual QA   \n",
            "1  2        Junior QA engineer                NaN     Manual QA   \n",
            "2  3         Software Engineer            C#/.NET           NaN   \n",
            "3  4         Software Engineer         JavaScript           NaN   \n",
            "4  5  Senior Software Engineer         JavaScript           NaN   \n",
            "\n",
            "  Загальний досвід роботи Досвід роботи на поточному місці  \\\n",
            "0                     0.5                              0.5   \n",
            "1         менше 3 місяців                  менше 3 місяців   \n",
            "2                       4                                1   \n",
            "3                       5                                4   \n",
            "4       10 і більше років                              0.5   \n",
            "\n",
            "   Зарплата на місяць  Зміна зарплати за 12 місяців   Місто   Розмір компанії  \\\n",
            "0                 400                             0  Харків        до 10 осіб   \n",
            "1                 430                           130  Харків  більше 1000 осіб   \n",
            "2                2500                           800    Київ      до 1000 осіб   \n",
            "3                2000                           400   Одеса       до 200 осіб   \n",
            "4                4500                           500    Інше        до 10 осіб   \n",
            "\n",
            "   ... Ще студент                    Рівень англійської  \\\n",
            "0  ...       True    Pre-intermediate (нище середнього)   \n",
            "1  ...       True  Upper-Intermediate (вище середнього)   \n",
            "2  ...      False               Intermediate (середній)   \n",
            "3  ...      False    Pre-intermediate (нище середнього)   \n",
            "4  ...      False               Intermediate (середній)   \n",
            "\n",
            "                   Предметна область      Дата заповнення  \\\n",
            "0                      iOS,eCommerce  12/06/2017 12:38:08   \n",
            "1                       Веб-розробка  12/06/2017 12:42:51   \n",
            "2  Веб-розробка,Корпоративні системи  12/06/2017 13:02:47   \n",
            "3  Desktop Applications,Веб-розробка  12/06/2017 13:03:01   \n",
            "4  Desktop Applications,Веб-розробка  12/06/2017 13:03:47   \n",
            "\n",
            "                                          User.Agent   exp current_job_exp  \\\n",
            "0  Mozilla/5.0 (Windows NT 10.0; Win64; x64) Appl...   0.5             0.5   \n",
            "1  Mozilla/5.0 (iPad; CPU OS 10_2_1 like Mac OS X...   0.0             0.0   \n",
            "2  Mozilla/5.0 (Windows NT 10.0; Win64; x64) Appl...   4.0             1.0   \n",
            "3  Mozilla/5.0 (Windows NT 6.1; Win64; x64) Apple...   5.0             4.0   \n",
            "4  Mozilla/5.0 (iPhone; CPU iPhone OS 10_3_2 like...  10.0             0.5   \n",
            "\n",
            "  salary Валюта  cls  \n",
            "0    400    NaN   QA  \n",
            "1    430    NaN   QA  \n",
            "2   2500    NaN  DEV  \n",
            "3   2000    NaN  DEV  \n",
            "4   4500    NaN  DEV  \n",
            "\n",
            "[5 rows x 25 columns]\n"
          ]
        }
      ]
    },
    {
      "cell_type": "code",
      "source": [
        "# 2\n",
        "print('Shape ', data.shape)"
      ],
      "metadata": {
        "colab": {
          "base_uri": "https://localhost:8080/"
        },
        "id": "vwNkRnSjruzc",
        "outputId": "adaaefc8-67f0-45d2-a630-a91e83c531dc"
      },
      "execution_count": 19,
      "outputs": [
        {
          "output_type": "stream",
          "name": "stdout",
          "text": [
            "Shape  (8704, 25)\n"
          ]
        }
      ]
    },
    {
      "cell_type": "code",
      "source": [
        "# 3\n",
        "print('Data types ' , data.dtypes)"
      ],
      "metadata": {
        "colab": {
          "base_uri": "https://localhost:8080/"
        },
        "id": "n4hhS5fDr4C-",
        "outputId": "2855f4e1-9e9b-46e6-fe43-133a1cae62dc"
      },
      "execution_count": 20,
      "outputs": [
        {
          "output_type": "stream",
          "name": "stdout",
          "text": [
            "Data types  N                                     int64\n",
            "Посада                               object\n",
            "Мова програмування                   object\n",
            "Спеціалізація                        object\n",
            "Загальний досвід роботи              object\n",
            "Досвід роботи на поточному місці     object\n",
            "Зарплата на місяць                    int64\n",
            "Зміна зарплати за 12 місяців          int64\n",
            "Місто                                object\n",
            "Розмір компанії                      object\n",
            "Тип компанії                         object\n",
            "Стать                                object\n",
            "Вік                                   int64\n",
            "Освіта                               object\n",
            "Університет                          object\n",
            "Ще студент                             bool\n",
            "Рівень англійської                   object\n",
            "Предметна область                    object\n",
            "Дата заповнення                      object\n",
            "User.Agent                           object\n",
            "exp                                 float64\n",
            "current_job_exp                     float64\n",
            "salary                                int64\n",
            "Валюта                               object\n",
            "cls                                  object\n",
            "dtype: object\n"
          ]
        }
      ]
    },
    {
      "cell_type": "code",
      "source": [
        "# 4 Calculate missing values in each column\n",
        "\n",
        "missing_percent = (data.isnull().sum() / len(data)) * 100\n",
        "print(missing_percent)\n",
        "\n",
        "\n"
      ],
      "metadata": {
        "colab": {
          "base_uri": "https://localhost:8080/"
        },
        "id": "qzThMgoosFJ9",
        "outputId": "4105e44a-705f-4bca-d88f-b11ad43e1eed"
      },
      "execution_count": 21,
      "outputs": [
        {
          "output_type": "stream",
          "name": "stdout",
          "text": [
            "N                                    0.000000\n",
            "Посада                               0.000000\n",
            "Мова програмування                  44.232537\n",
            "Спеціалізація                       82.938879\n",
            "Загальний досвід роботи              0.000000\n",
            "Досвід роботи на поточному місці     0.000000\n",
            "Зарплата на місяць                   0.000000\n",
            "Зміна зарплати за 12 місяців         0.000000\n",
            "Місто                                0.000000\n",
            "Розмір компанії                      0.000000\n",
            "Тип компанії                         0.000000\n",
            "Стать                                0.000000\n",
            "Вік                                  0.000000\n",
            "Освіта                               0.000000\n",
            "Університет                          4.113051\n",
            "Ще студент                           0.000000\n",
            "Рівень англійської                   0.000000\n",
            "Предметна область                    2.562040\n",
            "Дата заповнення                      0.000000\n",
            "User.Agent                           0.000000\n",
            "exp                                  0.000000\n",
            "current_job_exp                      0.000000\n",
            "salary                               0.000000\n",
            "Валюта                              99.885110\n",
            "cls                                 18.083640\n",
            "dtype: float64\n"
          ]
        }
      ]
    },
    {
      "cell_type": "code",
      "source": [
        "# 5 Remove rows with missing values\n",
        "\n",
        "data_cleaned = data.dropna(subset=['Мова програмування'], how='any')\n",
        "print(data_cleaned)"
      ],
      "metadata": {
        "colab": {
          "base_uri": "https://localhost:8080/"
        },
        "id": "UyBt5c7psfq6",
        "outputId": "694d048d-3c15-4ff6-d47c-e9bb7317ae88"
      },
      "execution_count": 22,
      "outputs": [
        {
          "output_type": "stream",
          "name": "stdout",
          "text": [
            "         N                    Посада Мова програмування Спеціалізація  \\\n",
            "2        3         Software Engineer            C#/.NET           NaN   \n",
            "3        4         Software Engineer         JavaScript           NaN   \n",
            "4        5  Senior Software Engineer         JavaScript           NaN   \n",
            "6        7  Junior Software Engineer            C#/.NET           NaN   \n",
            "7        8  Senior Software Engineer                C++           NaN   \n",
            "...    ...                       ...                ...           ...   \n",
            "8692  8693         Software Engineer               Java           NaN   \n",
            "8694  8695  Junior Software Engineer            C#/.NET           NaN   \n",
            "8695  8696         Software Engineer             Python           NaN   \n",
            "8701  8702  Junior Software Engineer         Ruby/Rails           NaN   \n",
            "8703  8704  Senior Software Engineer               Java           NaN   \n",
            "\n",
            "     Загальний досвід роботи Досвід роботи на поточному місці  \\\n",
            "2                          4                                1   \n",
            "3                          5                                4   \n",
            "4          10 і більше років                              0.5   \n",
            "6                          1                  менше 3 місяців   \n",
            "7                          6                                1   \n",
            "...                      ...                              ...   \n",
            "8692                       5                                1   \n",
            "8694                       1                                1   \n",
            "8695                       1                              0.5   \n",
            "8701                       1                              0.5   \n",
            "8703                       7                                2   \n",
            "\n",
            "      Зарплата на місяць  Зміна зарплати за 12 місяців         Місто  \\\n",
            "2                   2500                           800          Київ   \n",
            "3                   2000                           400         Одеса   \n",
            "4                   4500                           500          Інше   \n",
            "6                    600                           100  Хмельницький   \n",
            "7                   3300                           500          Київ   \n",
            "...                  ...                           ...           ...   \n",
            "8692                3500                           650     Віддалено   \n",
            "8694                 550                           550        Харків   \n",
            "8695                1500                          1000          Київ   \n",
            "8701                 800                           500         Львів   \n",
            "8703                5000                           800         Одеса   \n",
            "\n",
            "     Розмір компанії  ... Ще студент                    Рівень англійської  \\\n",
            "2       до 1000 осіб  ...      False               Intermediate (середній)   \n",
            "3        до 200 осіб  ...      False    Pre-intermediate (нище середнього)   \n",
            "4         до 10 осіб  ...      False               Intermediate (середній)   \n",
            "6         до 50 осіб  ...      False    Pre-intermediate (нище середнього)   \n",
            "7         до 10 осіб  ...      False  Upper-Intermediate (вище середнього)   \n",
            "...              ...  ...        ...                                   ...   \n",
            "8692     до 200 осіб  ...      False               Intermediate (середній)   \n",
            "8694     до 200 осіб  ...      False    Pre-intermediate (нище середнього)   \n",
            "8695      до 10 осіб  ...      False               Intermediate (середній)   \n",
            "8701      до 10 осіб  ...      False  Upper-Intermediate (вище середнього)   \n",
            "8703    до 1000 осіб  ...      False  Upper-Intermediate (вище середнього)   \n",
            "\n",
            "                                Предметна область      Дата заповнення  \\\n",
            "2               Веб-розробка,Корпоративні системи  12/06/2017 13:02:47   \n",
            "3               Desktop Applications,Веб-розробка  12/06/2017 13:03:01   \n",
            "4               Desktop Applications,Веб-розробка  12/06/2017 13:03:47   \n",
            "6                                    Веб-розробка  12/06/2017 13:04:26   \n",
            "7                                            Інше  12/06/2017 13:04:27   \n",
            "...                                           ...                  ...   \n",
            "8692                                    eCommerce  12/07/2017 13:26:49   \n",
            "8694  Desktop Applications,Системне програмування  12/07/2017 14:14:33   \n",
            "8695                 Фінанси та банкінг,eCommerce  12/07/2017 14:39:21   \n",
            "8701            Веб-розробка,Корпоративні системи  12/07/2017 17:32:26   \n",
            "8703                                 Веб-розробка  12/07/2017 21:28:57   \n",
            "\n",
            "                                             User.Agent   exp current_job_exp  \\\n",
            "2     Mozilla/5.0 (Windows NT 10.0; Win64; x64) Appl...   4.0             1.0   \n",
            "3     Mozilla/5.0 (Windows NT 6.1; Win64; x64) Apple...   5.0             4.0   \n",
            "4     Mozilla/5.0 (iPhone; CPU iPhone OS 10_3_2 like...  10.0             0.5   \n",
            "6     Mozilla/5.0 (Windows NT 10.0; Win64; x64) Appl...   1.0             0.0   \n",
            "7     Mozilla/5.0 (X11; Ubuntu; Linux x86_64; rv:53....   6.0             1.0   \n",
            "...                                                 ...   ...             ...   \n",
            "8692  Mozilla/5.0 (Macintosh; Intel Mac OS X 10_12_5...   5.0             1.0   \n",
            "8694  Mozilla/5.0 (Windows NT 10.0; WOW64; rv:54.0) ...   1.0             1.0   \n",
            "8695  Mozilla/5.0 (X11; Linux x86_64) AppleWebKit/53...   1.0             0.5   \n",
            "8701  Mozilla/5.0 (X11; Linux x86_64) AppleWebKit/53...   1.0             0.5   \n",
            "8703  Mozilla/5.0 (iPad; CPU OS 10_3_2 like Mac OS X...   7.0             2.0   \n",
            "\n",
            "     salary Валюта  cls  \n",
            "2      2500    NaN  DEV  \n",
            "3      2000    NaN  DEV  \n",
            "4      4500    NaN  DEV  \n",
            "6       600    NaN  DEV  \n",
            "7      3300    NaN  DEV  \n",
            "...     ...    ...  ...  \n",
            "8692   3500    NaN  DEV  \n",
            "8694    550    NaN  DEV  \n",
            "8695   1500    NaN  DEV  \n",
            "8701    800    NaN  DEV  \n",
            "8703   5000    NaN  DEV  \n",
            "\n",
            "[4854 rows x 25 columns]\n"
          ]
        }
      ]
    },
    {
      "cell_type": "code",
      "source": [
        "# 6 Display missing values after removal\n",
        "\n",
        "missing_percent_cleaned = (data_cleaned.isnull().sum() / len(data_cleaned)) * 100\n",
        "print(missing_percent_cleaned)\n"
      ],
      "metadata": {
        "colab": {
          "base_uri": "https://localhost:8080/"
        },
        "id": "y87whDE5vDbZ",
        "outputId": "f68b62ad-204b-4aca-ceee-16bf67e10dc3"
      },
      "execution_count": 23,
      "outputs": [
        {
          "output_type": "stream",
          "name": "stdout",
          "text": [
            "N                                    0.000000\n",
            "Посада                               0.000000\n",
            "Мова програмування                   0.000000\n",
            "Спеціалізація                       99.979398\n",
            "Загальний досвід роботи              0.000000\n",
            "Досвід роботи на поточному місці     0.000000\n",
            "Зарплата на місяць                   0.000000\n",
            "Зміна зарплати за 12 місяців         0.000000\n",
            "Місто                                0.000000\n",
            "Розмір компанії                      0.000000\n",
            "Тип компанії                         0.000000\n",
            "Стать                                0.000000\n",
            "Вік                                  0.000000\n",
            "Освіта                               0.000000\n",
            "Університет                          4.758962\n",
            "Ще студент                           0.000000\n",
            "Рівень англійської                   0.000000\n",
            "Предметна область                    0.618047\n",
            "Дата заповнення                      0.000000\n",
            "User.Agent                           0.000000\n",
            "exp                                  0.000000\n",
            "current_job_exp                      0.000000\n",
            "salary                               0.000000\n",
            "Валюта                              99.835187\n",
            "cls                                  0.164813\n",
            "dtype: float64\n"
          ]
        }
      ]
    },
    {
      "cell_type": "code",
      "source": [
        "# 7\n",
        "data_cleaned_rows = data.dropna()\n"
      ],
      "metadata": {
        "id": "-BWFwvCHvt__"
      },
      "execution_count": 24,
      "outputs": []
    },
    {
      "cell_type": "code",
      "source": [
        "# 8\n",
        "\n",
        "data_cleaned_shape = data_cleaned_rows.shape\n",
        "print(data_cleaned_shape)"
      ],
      "metadata": {
        "colab": {
          "base_uri": "https://localhost:8080/"
        },
        "id": "91SmSP4eMpnE",
        "outputId": "bb6d30f9-2cc3-4a2a-c284-e519c35323ab"
      },
      "execution_count": 25,
      "outputs": [
        {
          "output_type": "stream",
          "name": "stdout",
          "text": [
            "(0, 25)\n"
          ]
        }
      ]
    },
    {
      "cell_type": "code",
      "source": [
        "# 9\n",
        "\n",
        "python_data = data_cleaned_rows[data_cleaned_rows['Мова програмування'] == 'Python']\n"
      ],
      "metadata": {
        "id": "_qUlNhpHM9SL"
      },
      "execution_count": 26,
      "outputs": []
    },
    {
      "cell_type": "code",
      "source": [
        "# 10\n",
        "\n",
        "python_data_shape = python_data.shape\n",
        "print(python_data_shape)\n"
      ],
      "metadata": {
        "colab": {
          "base_uri": "https://localhost:8080/"
        },
        "id": "xuR8rMzdNARG",
        "outputId": "491c11d5-5809-4cd5-dd3a-8b8cc1a2dddd"
      },
      "execution_count": 27,
      "outputs": [
        {
          "output_type": "stream",
          "name": "stdout",
          "text": [
            "(0, 25)\n"
          ]
        }
      ]
    },
    {
      "cell_type": "code",
      "source": [
        "# 11\n",
        "\n",
        "grouped_by_position = data_cleaned_rows.groupby('Посада')\n",
        "aggregated_salary = grouped_by_position['Зарплата на місяць'].agg(['min', 'max'])\n"
      ],
      "metadata": {
        "id": "lC8Jdp2gNaae"
      },
      "execution_count": 28,
      "outputs": []
    },
    {
      "cell_type": "code",
      "source": [
        "# 12\n",
        "\n",
        "def fill_avg_salary(row):\n",
        "    return row['Зарплата на місяць'].mean()\n",
        "\n",
        "# Додайте новий стовпчик \"avg\" з середніми зарплатами\n",
        "data_cleaned_rows['avg'] = data_cleaned_rows.apply(fill_avg_salary, axis=1)\n"
      ],
      "metadata": {
        "id": "mp9-Njd9Nw7q"
      },
      "execution_count": 30,
      "outputs": []
    },
    {
      "cell_type": "code",
      "source": [
        "# 13\n",
        "\n",
        "avg_salary_stats = data_cleaned_rows['avg'].describe()\n",
        "print(avg_salary_stats)\n"
      ],
      "metadata": {
        "colab": {
          "base_uri": "https://localhost:8080/"
        },
        "id": "u3Qugb7YOc32",
        "outputId": "454e365c-113a-4662-e1a2-f863ecde1c65"
      },
      "execution_count": 31,
      "outputs": [
        {
          "output_type": "stream",
          "name": "stdout",
          "text": [
            "count    0.0\n",
            "mean     NaN\n",
            "std      NaN\n",
            "min      NaN\n",
            "25%      NaN\n",
            "50%      NaN\n",
            "75%      NaN\n",
            "max      NaN\n",
            "Name: avg, dtype: float64\n"
          ]
        }
      ]
    },
    {
      "cell_type": "code",
      "source": [
        "# 15\n",
        "\n",
        "data_cleaned_rows.to_csv('cleaned_data.csv', index=False)\n"
      ],
      "metadata": {
        "id": "b7qvN9XxOiBE"
      },
      "execution_count": 32,
      "outputs": []
    }
  ]
}